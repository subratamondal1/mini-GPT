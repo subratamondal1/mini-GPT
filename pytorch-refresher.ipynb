{
 "cells": [
  {
   "cell_type": "code",
   "execution_count": 1,
   "id": "576c815e",
   "metadata": {
    "execution": {
     "iopub.execute_input": "2023-09-01T19:55:29.681343Z",
     "iopub.status.busy": "2023-09-01T19:55:29.680906Z",
     "iopub.status.idle": "2023-09-01T19:55:34.094418Z",
     "shell.execute_reply": "2023-09-01T19:55:34.092514Z"
    },
    "papermill": {
     "duration": 4.430973,
     "end_time": "2023-09-01T19:55:34.097495",
     "exception": false,
     "start_time": "2023-09-01T19:55:29.666522",
     "status": "completed"
    },
    "tags": []
   },
   "outputs": [
    {
     "name": "stdout",
     "output_type": "stream",
     "text": [
      "cpu\n",
      "CPU times: user 1.93 s, sys: 355 ms, total: 2.28 s\n",
      "Wall time: 4.4 s\n"
     ]
    }
   ],
   "source": [
    "%%time\n",
    "import torch\n",
    "import torch.nn as nn\n",
    "import torch.nn.functional as F\n",
    "from torch.nn import Embedding\n",
    "\n",
    "device = \"cuda\" if torch.cuda.is_available() else \"cpu\"\n",
    "print(device)"
   ]
  },
  {
   "cell_type": "markdown",
   "id": "c111d7e3",
   "metadata": {
    "papermill": {
     "duration": 0.011722,
     "end_time": "2023-09-01T19:55:34.125262",
     "exception": false,
     "start_time": "2023-09-01T19:55:34.113540",
     "status": "completed"
    },
    "tags": []
   },
   "source": [
    "---\n",
    "## PyTorch Features"
   ]
  },
  {
   "cell_type": "code",
   "execution_count": 2,
   "id": "c76ed7a5",
   "metadata": {
    "execution": {
     "iopub.execute_input": "2023-09-01T19:55:34.153321Z",
     "iopub.status.busy": "2023-09-01T19:55:34.152657Z",
     "iopub.status.idle": "2023-09-01T19:55:34.223180Z",
     "shell.execute_reply": "2023-09-01T19:55:34.221896Z"
    },
    "papermill": {
     "duration": 0.087719,
     "end_time": "2023-09-01T19:55:34.225859",
     "exception": false,
     "start_time": "2023-09-01T19:55:34.138140",
     "status": "completed"
    },
    "tags": []
   },
   "outputs": [
    {
     "data": {
      "text/plain": [
       "tensor([-59,  50,  71,  66, -46,  96], dtype=torch.int32)"
      ]
     },
     "execution_count": 2,
     "metadata": {},
     "output_type": "execute_result"
    }
   ],
   "source": [
    "torch.randint(low=-100, high=100, size=(6,), dtype=torch.int32, device=device, requires_grad=False)"
   ]
  },
  {
   "cell_type": "code",
   "execution_count": 3,
   "id": "cac1f515",
   "metadata": {
    "execution": {
     "iopub.execute_input": "2023-09-01T19:55:34.252926Z",
     "iopub.status.busy": "2023-09-01T19:55:34.252490Z",
     "iopub.status.idle": "2023-09-01T19:55:34.265687Z",
     "shell.execute_reply": "2023-09-01T19:55:34.264472Z"
    },
    "papermill": {
     "duration": 0.029882,
     "end_time": "2023-09-01T19:55:34.268302",
     "exception": false,
     "start_time": "2023-09-01T19:55:34.238420",
     "status": "completed"
    },
    "tags": []
   },
   "outputs": [
    {
     "data": {
      "text/plain": [
       "tensor([[ 91, -71,  77],\n",
       "        [ 40,  49, -26],\n",
       "        [ 91, -71,  77]], dtype=torch.int32)"
      ]
     },
     "execution_count": 3,
     "metadata": {},
     "output_type": "execute_result"
    }
   ],
   "source": [
    "torch.tensor(data = [[91, -71,  77],\n",
    "                     [40,  49, -26],\n",
    "                     [91, -71,  77]], dtype=torch.int32, device=device, requires_grad=False)"
   ]
  },
  {
   "cell_type": "code",
   "execution_count": 4,
   "id": "80af51e3",
   "metadata": {
    "execution": {
     "iopub.execute_input": "2023-09-01T19:55:34.296849Z",
     "iopub.status.busy": "2023-09-01T19:55:34.296396Z",
     "iopub.status.idle": "2023-09-01T19:55:34.310455Z",
     "shell.execute_reply": "2023-09-01T19:55:34.309045Z"
    },
    "papermill": {
     "duration": 0.0315,
     "end_time": "2023-09-01T19:55:34.313085",
     "exception": false,
     "start_time": "2023-09-01T19:55:34.281585",
     "status": "completed"
    },
    "tags": []
   },
   "outputs": [
    {
     "data": {
      "text/plain": [
       "tensor([[0, 0, 0, 0, 0, 0, 0, 0],\n",
       "        [0, 0, 0, 0, 0, 0, 0, 0],\n",
       "        [0, 0, 0, 0, 0, 0, 0, 0],\n",
       "        [0, 0, 0, 0, 0, 0, 0, 0]], dtype=torch.int32)"
      ]
     },
     "execution_count": 4,
     "metadata": {},
     "output_type": "execute_result"
    }
   ],
   "source": [
    "torch.zeros(size=(4,8), dtype=torch.int32, device=device, requires_grad=False)"
   ]
  },
  {
   "cell_type": "code",
   "execution_count": 5,
   "id": "41243fec",
   "metadata": {
    "execution": {
     "iopub.execute_input": "2023-09-01T19:55:34.339751Z",
     "iopub.status.busy": "2023-09-01T19:55:34.339276Z",
     "iopub.status.idle": "2023-09-01T19:55:34.349887Z",
     "shell.execute_reply": "2023-09-01T19:55:34.349014Z"
    },
    "papermill": {
     "duration": 0.026843,
     "end_time": "2023-09-01T19:55:34.352412",
     "exception": false,
     "start_time": "2023-09-01T19:55:34.325569",
     "status": "completed"
    },
    "tags": []
   },
   "outputs": [
    {
     "data": {
      "text/plain": [
       "tensor([[1, 1, 1, 1, 1, 1, 1, 1],\n",
       "        [1, 1, 1, 1, 1, 1, 1, 1],\n",
       "        [1, 1, 1, 1, 1, 1, 1, 1],\n",
       "        [1, 1, 1, 1, 1, 1, 1, 1]], dtype=torch.int32)"
      ]
     },
     "execution_count": 5,
     "metadata": {},
     "output_type": "execute_result"
    }
   ],
   "source": [
    "torch.ones(size=(4,8), dtype=torch.int32, device=device, requires_grad=False)"
   ]
  },
  {
   "cell_type": "code",
   "execution_count": 6,
   "id": "c760a46e",
   "metadata": {
    "execution": {
     "iopub.execute_input": "2023-09-01T19:55:34.380069Z",
     "iopub.status.busy": "2023-09-01T19:55:34.379634Z",
     "iopub.status.idle": "2023-09-01T19:55:34.388826Z",
     "shell.execute_reply": "2023-09-01T19:55:34.387445Z"
    },
    "papermill": {
     "duration": 0.025876,
     "end_time": "2023-09-01T19:55:34.391365",
     "exception": false,
     "start_time": "2023-09-01T19:55:34.365489",
     "status": "completed"
    },
    "tags": []
   },
   "outputs": [
    {
     "data": {
      "text/plain": [
       "tensor([[0, 0, 0, 0, 0, 0],\n",
       "        [0, 0, 0, 0, 1, 0]], dtype=torch.int32)"
      ]
     },
     "execution_count": 6,
     "metadata": {},
     "output_type": "execute_result"
    }
   ],
   "source": [
    "torch.empty(size=(2,6), dtype=torch.int32, device=device, requires_grad=False)"
   ]
  },
  {
   "cell_type": "code",
   "execution_count": 7,
   "id": "cc35187e",
   "metadata": {
    "execution": {
     "iopub.execute_input": "2023-09-01T19:55:34.419466Z",
     "iopub.status.busy": "2023-09-01T19:55:34.418789Z",
     "iopub.status.idle": "2023-09-01T19:55:34.436103Z",
     "shell.execute_reply": "2023-09-01T19:55:34.434964Z"
    },
    "papermill": {
     "duration": 0.034181,
     "end_time": "2023-09-01T19:55:34.438509",
     "exception": false,
     "start_time": "2023-09-01T19:55:34.404328",
     "status": "completed"
    },
    "tags": []
   },
   "outputs": [
    {
     "data": {
      "text/plain": [
       "tensor([0, 2, 4, 6, 8], dtype=torch.int32)"
      ]
     },
     "execution_count": 7,
     "metadata": {},
     "output_type": "execute_result"
    }
   ],
   "source": [
    "torch.arange(start=0, end=10, step=2, dtype=torch.int32, device=device, requires_grad=False)"
   ]
  },
  {
   "cell_type": "code",
   "execution_count": 8,
   "id": "44c1b713",
   "metadata": {
    "execution": {
     "iopub.execute_input": "2023-09-01T19:55:34.466647Z",
     "iopub.status.busy": "2023-09-01T19:55:34.466204Z",
     "iopub.status.idle": "2023-09-01T19:55:34.528737Z",
     "shell.execute_reply": "2023-09-01T19:55:34.527424Z"
    },
    "papermill": {
     "duration": 0.080003,
     "end_time": "2023-09-01T19:55:34.531520",
     "exception": false,
     "start_time": "2023-09-01T19:55:34.451517",
     "status": "completed"
    },
    "tags": []
   },
   "outputs": [
    {
     "data": {
      "text/plain": [
       "tensor([ 0.,  4.,  8., 12., 16., 20.])"
      ]
     },
     "execution_count": 8,
     "metadata": {},
     "output_type": "execute_result"
    }
   ],
   "source": [
    "torch.linspace(start=0, end=20, steps=6, dtype=torch.float32, device=device, requires_grad=False)"
   ]
  },
  {
   "cell_type": "code",
   "execution_count": 9,
   "id": "8c2fbd47",
   "metadata": {
    "execution": {
     "iopub.execute_input": "2023-09-01T19:55:34.560584Z",
     "iopub.status.busy": "2023-09-01T19:55:34.560166Z",
     "iopub.status.idle": "2023-09-01T19:55:34.570527Z",
     "shell.execute_reply": "2023-09-01T19:55:34.569269Z"
    },
    "papermill": {
     "duration": 0.028107,
     "end_time": "2023-09-01T19:55:34.573146",
     "exception": false,
     "start_time": "2023-09-01T19:55:34.545039",
     "status": "completed"
    },
    "tags": []
   },
   "outputs": [
    {
     "data": {
      "text/plain": [
       "tensor([1.0000e+00, 1.0000e+04, 1.0000e+08, 1.0000e+12, 1.0000e+16, 1.0000e+20])"
      ]
     },
     "execution_count": 9,
     "metadata": {},
     "output_type": "execute_result"
    }
   ],
   "source": [
    "torch.logspace(start=0, end=20, steps=6, base = 10.0, dtype=torch.float32, device=device, requires_grad=False)"
   ]
  },
  {
   "cell_type": "code",
   "execution_count": 10,
   "id": "25a73a41",
   "metadata": {
    "execution": {
     "iopub.execute_input": "2023-09-01T19:55:34.602566Z",
     "iopub.status.busy": "2023-09-01T19:55:34.602111Z",
     "iopub.status.idle": "2023-09-01T19:55:34.609714Z",
     "shell.execute_reply": "2023-09-01T19:55:34.608770Z"
    },
    "papermill": {
     "duration": 0.025459,
     "end_time": "2023-09-01T19:55:34.611940",
     "exception": false,
     "start_time": "2023-09-01T19:55:34.586481",
     "status": "completed"
    },
    "tags": []
   },
   "outputs": [
    {
     "data": {
      "text/plain": [
       "tensor([1.0000e+00, 1.6000e+01, 2.5600e+02, 4.0960e+03, 6.5536e+04, 1.0486e+06])"
      ]
     },
     "execution_count": 10,
     "metadata": {},
     "output_type": "execute_result"
    }
   ],
   "source": [
    "torch.logspace(start=0, end=20, steps=6, base = 2.0, dtype=torch.float32, device=device, requires_grad=False)"
   ]
  },
  {
   "cell_type": "code",
   "execution_count": 11,
   "id": "f2332e09",
   "metadata": {
    "execution": {
     "iopub.execute_input": "2023-09-01T19:55:34.642532Z",
     "iopub.status.busy": "2023-09-01T19:55:34.641362Z",
     "iopub.status.idle": "2023-09-01T19:55:34.649659Z",
     "shell.execute_reply": "2023-09-01T19:55:34.648671Z"
    },
    "papermill": {
     "duration": 0.026422,
     "end_time": "2023-09-01T19:55:34.651897",
     "exception": false,
     "start_time": "2023-09-01T19:55:34.625475",
     "status": "completed"
    },
    "tags": []
   },
   "outputs": [
    {
     "data": {
      "text/plain": [
       "tensor([[1., 0., 0., 0., 0.],\n",
       "        [0., 1., 0., 0., 0.],\n",
       "        [0., 0., 1., 0., 0.],\n",
       "        [0., 0., 0., 1., 0.],\n",
       "        [0., 0., 0., 0., 1.]])"
      ]
     },
     "execution_count": 11,
     "metadata": {},
     "output_type": "execute_result"
    }
   ],
   "source": [
    "torch.eye(n=5, m=5, dtype=torch.float32, device=device, requires_grad=False)"
   ]
  },
  {
   "cell_type": "code",
   "execution_count": 12,
   "id": "be9e0abe",
   "metadata": {
    "execution": {
     "iopub.execute_input": "2023-09-01T19:55:34.682620Z",
     "iopub.status.busy": "2023-09-01T19:55:34.681360Z",
     "iopub.status.idle": "2023-09-01T19:55:34.691536Z",
     "shell.execute_reply": "2023-09-01T19:55:34.690121Z"
    },
    "papermill": {
     "duration": 0.028685,
     "end_time": "2023-09-01T19:55:34.694411",
     "exception": false,
     "start_time": "2023-09-01T19:55:34.665726",
     "status": "completed"
    },
    "tags": []
   },
   "outputs": [
    {
     "data": {
      "text/plain": [
       "tensor([[1., 0., 0., 0., 0.],\n",
       "        [0., 1., 0., 0., 0.],\n",
       "        [0., 0., 1., 0., 0.],\n",
       "        [0., 0., 0., 1., 0.],\n",
       "        [0., 0., 0., 0., 1.]])"
      ]
     },
     "execution_count": 12,
     "metadata": {},
     "output_type": "execute_result"
    }
   ],
   "source": [
    "torch.eye(n=5, dtype=torch.float32, device=device, requires_grad=False)"
   ]
  },
  {
   "cell_type": "code",
   "execution_count": 13,
   "id": "7715efac",
   "metadata": {
    "execution": {
     "iopub.execute_input": "2023-09-01T19:55:34.724637Z",
     "iopub.status.busy": "2023-09-01T19:55:34.724165Z",
     "iopub.status.idle": "2023-09-01T19:55:34.733898Z",
     "shell.execute_reply": "2023-09-01T19:55:34.732647Z"
    },
    "papermill": {
     "duration": 0.027708,
     "end_time": "2023-09-01T19:55:34.736531",
     "exception": false,
     "start_time": "2023-09-01T19:55:34.708823",
     "status": "completed"
    },
    "tags": []
   },
   "outputs": [
    {
     "data": {
      "text/plain": [
       "tensor([[-897653952,      22344, -897649488,      22344,          1,          0],\n",
       "        [         0,          0,          0,          0,          1,          0]],\n",
       "       dtype=torch.int32)"
      ]
     },
     "execution_count": 13,
     "metadata": {},
     "output_type": "execute_result"
    }
   ],
   "source": [
    "a = torch.empty(size=(2,6), dtype=torch.int32, device=device, requires_grad=False)\n",
    "torch.empty_like(a)"
   ]
  },
  {
   "cell_type": "markdown",
   "id": "eb231ebb",
   "metadata": {
    "papermill": {
     "duration": 0.014051,
     "end_time": "2023-09-01T19:55:34.764793",
     "exception": false,
     "start_time": "2023-09-01T19:55:34.750742",
     "status": "completed"
    },
    "tags": []
   },
   "source": [
    "### Intermediate Features\n",
    "---"
   ]
  },
  {
   "cell_type": "code",
   "execution_count": 14,
   "id": "cb28d74e",
   "metadata": {
    "execution": {
     "iopub.execute_input": "2023-09-01T19:55:34.795188Z",
     "iopub.status.busy": "2023-09-01T19:55:34.793953Z",
     "iopub.status.idle": "2023-09-01T19:55:34.803626Z",
     "shell.execute_reply": "2023-09-01T19:55:34.802195Z"
    },
    "papermill": {
     "duration": 0.027558,
     "end_time": "2023-09-01T19:55:34.806175",
     "exception": false,
     "start_time": "2023-09-01T19:55:34.778617",
     "status": "completed"
    },
    "tags": []
   },
   "outputs": [
    {
     "name": "stdout",
     "output_type": "stream",
     "text": [
      "tensor([1, 1, 0, 1, 1, 1, 1, 1, 1, 1])\n"
     ]
    }
   ],
   "source": [
    "# Define a probability tensor\n",
    "probabilities = torch.tensor([0.1, 0.9]) # 10% chance for event 0 (index) and 90% chance for event 1 (index)\n",
    "\n",
    "samples = torch.multinomial(input=probabilities, num_samples=10, replacement=True)\n",
    "print(samples)"
   ]
  },
  {
   "cell_type": "code",
   "execution_count": 15,
   "id": "cd40c5b6",
   "metadata": {
    "execution": {
     "iopub.execute_input": "2023-09-01T19:55:34.836682Z",
     "iopub.status.busy": "2023-09-01T19:55:34.836219Z",
     "iopub.status.idle": "2023-09-01T19:55:34.848739Z",
     "shell.execute_reply": "2023-09-01T19:55:34.847450Z"
    },
    "papermill": {
     "duration": 0.031076,
     "end_time": "2023-09-01T19:55:34.851335",
     "exception": false,
     "start_time": "2023-09-01T19:55:34.820259",
     "status": "completed"
    },
    "tags": []
   },
   "outputs": [
    {
     "data": {
      "text/plain": [
       "tensor([1, 2, 3, 4, 5])"
      ]
     },
     "execution_count": 15,
     "metadata": {},
     "output_type": "execute_result"
    }
   ],
   "source": [
    "tensor1 = torch.tensor([1,2,3,4])\n",
    "tensor2 = torch.tensor([5])\n",
    "\n",
    "torch.cat([tensor1, tensor2], dim=0)"
   ]
  },
  {
   "cell_type": "code",
   "execution_count": 16,
   "id": "b67ca66f",
   "metadata": {
    "execution": {
     "iopub.execute_input": "2023-09-01T19:55:34.882413Z",
     "iopub.status.busy": "2023-09-01T19:55:34.881890Z",
     "iopub.status.idle": "2023-09-01T19:55:34.893874Z",
     "shell.execute_reply": "2023-09-01T19:55:34.892676Z"
    },
    "papermill": {
     "duration": 0.030959,
     "end_time": "2023-09-01T19:55:34.896427",
     "exception": false,
     "start_time": "2023-09-01T19:55:34.865468",
     "status": "completed"
    },
    "tags": []
   },
   "outputs": [
    {
     "data": {
      "text/plain": [
       "tensor([[1., 0., 0., 0., 0.],\n",
       "        [1., 1., 0., 0., 0.],\n",
       "        [1., 1., 1., 0., 0.],\n",
       "        [1., 1., 1., 1., 0.],\n",
       "        [1., 1., 1., 1., 1.]])"
      ]
     },
     "execution_count": 16,
     "metadata": {},
     "output_type": "execute_result"
    }
   ],
   "source": [
    "torch.tril(input=torch.ones(size=(5,5)))"
   ]
  },
  {
   "cell_type": "code",
   "execution_count": 17,
   "id": "99ac2370",
   "metadata": {
    "execution": {
     "iopub.execute_input": "2023-09-01T19:55:34.927733Z",
     "iopub.status.busy": "2023-09-01T19:55:34.927032Z",
     "iopub.status.idle": "2023-09-01T19:55:34.935876Z",
     "shell.execute_reply": "2023-09-01T19:55:34.934728Z"
    },
    "papermill": {
     "duration": 0.027479,
     "end_time": "2023-09-01T19:55:34.938305",
     "exception": false,
     "start_time": "2023-09-01T19:55:34.910826",
     "status": "completed"
    },
    "tags": []
   },
   "outputs": [
    {
     "data": {
      "text/plain": [
       "tensor([[1., 1., 1., 1., 1.],\n",
       "        [0., 1., 1., 1., 1.],\n",
       "        [0., 0., 1., 1., 1.],\n",
       "        [0., 0., 0., 1., 1.],\n",
       "        [0., 0., 0., 0., 1.]])"
      ]
     },
     "execution_count": 17,
     "metadata": {},
     "output_type": "execute_result"
    }
   ],
   "source": [
    "torch.triu(input=torch.ones(size=(5,5)))"
   ]
  },
  {
   "cell_type": "code",
   "execution_count": 18,
   "id": "088ab226",
   "metadata": {
    "execution": {
     "iopub.execute_input": "2023-09-01T19:55:34.970859Z",
     "iopub.status.busy": "2023-09-01T19:55:34.970456Z",
     "iopub.status.idle": "2023-09-01T19:55:34.984307Z",
     "shell.execute_reply": "2023-09-01T19:55:34.983130Z"
    },
    "papermill": {
     "duration": 0.033295,
     "end_time": "2023-09-01T19:55:34.986998",
     "exception": false,
     "start_time": "2023-09-01T19:55:34.953703",
     "status": "completed"
    },
    "tags": []
   },
   "outputs": [
    {
     "name": "stdout",
     "output_type": "stream",
     "text": [
      "tensor([[0., -inf, -inf, -inf, -inf],\n",
      "        [0., 0., -inf, -inf, -inf],\n",
      "        [0., 0., 0., -inf, -inf],\n",
      "        [0., 0., 0., 0., -inf],\n",
      "        [0., 0., 0., 0., 0.]])\n"
     ]
    }
   ],
   "source": [
    "tensor1 = torch.tril(input=torch.ones(size=(5,5)))\n",
    "\n",
    "output = torch.zeros(size=(5,5)).masked_fill(tensor1 == 0, float(\"-inf\"))\n",
    "print(output)"
   ]
  },
  {
   "cell_type": "code",
   "execution_count": 19,
   "id": "483739e8",
   "metadata": {
    "execution": {
     "iopub.execute_input": "2023-09-01T19:55:35.022742Z",
     "iopub.status.busy": "2023-09-01T19:55:35.021571Z",
     "iopub.status.idle": "2023-09-01T19:55:35.039279Z",
     "shell.execute_reply": "2023-09-01T19:55:35.037718Z"
    },
    "papermill": {
     "duration": 0.039253,
     "end_time": "2023-09-01T19:55:35.042481",
     "exception": false,
     "start_time": "2023-09-01T19:55:35.003228",
     "status": "completed"
    },
    "tags": []
   },
   "outputs": [
    {
     "data": {
      "text/plain": [
       "tensor([[1., 0., 0., 0., 0.],\n",
       "        [1., 1., 0., 0., 0.],\n",
       "        [1., 1., 1., 0., 0.],\n",
       "        [1., 1., 1., 1., 0.],\n",
       "        [1., 1., 1., 1., 1.]])"
      ]
     },
     "execution_count": 19,
     "metadata": {},
     "output_type": "execute_result"
    }
   ],
   "source": [
    "torch.exp(input=output)"
   ]
  },
  {
   "cell_type": "code",
   "execution_count": 20,
   "id": "39dc2cc9",
   "metadata": {
    "execution": {
     "iopub.execute_input": "2023-09-01T19:55:35.080335Z",
     "iopub.status.busy": "2023-09-01T19:55:35.079522Z",
     "iopub.status.idle": "2023-09-01T19:55:35.088401Z",
     "shell.execute_reply": "2023-09-01T19:55:35.087155Z"
    },
    "papermill": {
     "duration": 0.028991,
     "end_time": "2023-09-01T19:55:35.091070",
     "exception": false,
     "start_time": "2023-09-01T19:55:35.062079",
     "status": "completed"
    },
    "tags": []
   },
   "outputs": [
    {
     "data": {
      "text/plain": [
       "torch.Size([1, 3, 2, 4])"
      ]
     },
     "execution_count": 20,
     "metadata": {},
     "output_type": "execute_result"
    }
   ],
   "source": [
    "inputs = torch.zeros(size=(4,3,2,1))\n",
    "inputs.transpose(dim0=0, dim1=3).shape"
   ]
  },
  {
   "cell_type": "code",
   "execution_count": 21,
   "id": "c3b42b0e",
   "metadata": {
    "execution": {
     "iopub.execute_input": "2023-09-01T19:55:35.125129Z",
     "iopub.status.busy": "2023-09-01T19:55:35.124312Z",
     "iopub.status.idle": "2023-09-01T19:55:35.144649Z",
     "shell.execute_reply": "2023-09-01T19:55:35.143043Z"
    },
    "papermill": {
     "duration": 0.040463,
     "end_time": "2023-09-01T19:55:35.148110",
     "exception": false,
     "start_time": "2023-09-01T19:55:35.107647",
     "status": "completed"
    },
    "tags": []
   },
   "outputs": [
    {
     "name": "stdout",
     "output_type": "stream",
     "text": [
      "tensor([[[True, True, True, True],\n",
      "         [True, True, True, True],\n",
      "         [True, True, True, True],\n",
      "         [True, True, True, True]]])\n",
      "tensor([1, 2, 3, 4, 5, 6, 7, 8, 9, 8, 7, 6, 5, 4, 3, 2])\n",
      "tensor([[1, 2, 3, 4],\n",
      "        [5, 6, 7, 8],\n",
      "        [9, 8, 7, 6],\n",
      "        [5, 4, 3, 2]])\n"
     ]
    }
   ],
   "source": [
    "tensor1 = torch.tensor([1,2,3,4])\n",
    "tensor2 = torch.tensor([5,6,7,8])\n",
    "tensor3 = torch.tensor([9,8,7,6])\n",
    "tensor4 = torch.tensor([5,4,3,2])\n",
    "\n",
    "# stack the above tensors in a new dimension\n",
    "print(torch.column_stack(tensors=[tensor1,tensor2,tensor3,tensor4]) == torch.dstack(tensors=[tensor1,tensor2,tensor3,tensor4]))\n",
    "print(torch.hstack(tensors=[tensor1,tensor2,tensor3,tensor4]))\n",
    "print(torch.stack(tensors=[tensor1,tensor2,tensor3,tensor4], dim=0))"
   ]
  },
  {
   "cell_type": "code",
   "execution_count": 22,
   "id": "48ec0c9d",
   "metadata": {
    "execution": {
     "iopub.execute_input": "2023-09-01T19:55:35.181267Z",
     "iopub.status.busy": "2023-09-01T19:55:35.180425Z",
     "iopub.status.idle": "2023-09-01T19:55:35.203238Z",
     "shell.execute_reply": "2023-09-01T19:55:35.201790Z"
    },
    "papermill": {
     "duration": 0.042598,
     "end_time": "2023-09-01T19:55:35.205879",
     "exception": false,
     "start_time": "2023-09-01T19:55:35.163281",
     "status": "completed"
    },
    "tags": []
   },
   "outputs": [
    {
     "name": "stdout",
     "output_type": "stream",
     "text": [
      "tensor([ 8.8624, -4.6313,  0.3985], grad_fn=<SqueezeBackward4>)\n"
     ]
    }
   ],
   "source": [
    "import torch.nn as nn\n",
    "\n",
    "sample = torch.tensor([10., 10., 10.])\n",
    "linear = nn.Linear(in_features=3, out_features=3, bias=False)\n",
    "print(linear(sample))"
   ]
  },
  {
   "cell_type": "markdown",
   "id": "f7a2718b",
   "metadata": {
    "papermill": {
     "duration": 0.015077,
     "end_time": "2023-09-01T19:55:35.237058",
     "exception": false,
     "start_time": "2023-09-01T19:55:35.221981",
     "status": "completed"
    },
    "tags": []
   },
   "source": [
    "### `torch.nn.functional` module\n",
    "---"
   ]
  },
  {
   "cell_type": "code",
   "execution_count": 23,
   "id": "e0133aea",
   "metadata": {
    "execution": {
     "iopub.execute_input": "2023-09-01T19:55:35.270569Z",
     "iopub.status.busy": "2023-09-01T19:55:35.269690Z",
     "iopub.status.idle": "2023-09-01T19:55:35.287296Z",
     "shell.execute_reply": "2023-09-01T19:55:35.285953Z"
    },
    "papermill": {
     "duration": 0.037847,
     "end_time": "2023-09-01T19:55:35.290326",
     "exception": false,
     "start_time": "2023-09-01T19:55:35.252479",
     "status": "completed"
    },
    "tags": []
   },
   "outputs": [
    {
     "data": {
      "text/plain": [
       "tensor([0.0900, 0.2447, 0.6652])"
      ]
     },
     "execution_count": 23,
     "metadata": {},
     "output_type": "execute_result"
    }
   ],
   "source": [
    "import torch.nn.functional as F\n",
    "\n",
    "tensor1 = torch.tensor([1.0, 2.0, 3.0])\n",
    "F.softmax(input=tensor1, dim=0)"
   ]
  },
  {
   "cell_type": "markdown",
   "id": "5bc3ebef",
   "metadata": {
    "papermill": {
     "duration": 0.0837,
     "end_time": "2023-09-01T19:55:35.389603",
     "exception": false,
     "start_time": "2023-09-01T19:55:35.305903",
     "status": "completed"
    },
    "tags": []
   },
   "source": [
    "### `torch.nn.Embedding` module\n",
    "---"
   ]
  },
  {
   "cell_type": "code",
   "execution_count": 24,
   "id": "903f4af1",
   "metadata": {
    "execution": {
     "iopub.execute_input": "2023-09-01T19:55:35.424517Z",
     "iopub.status.busy": "2023-09-01T19:55:35.423096Z",
     "iopub.status.idle": "2023-09-01T19:55:35.454630Z",
     "shell.execute_reply": "2023-09-01T19:55:35.452767Z"
    },
    "papermill": {
     "duration": 0.051359,
     "end_time": "2023-09-01T19:55:35.457368",
     "exception": false,
     "start_time": "2023-09-01T19:55:35.406009",
     "status": "completed"
    },
    "tags": []
   },
   "outputs": [
    {
     "name": "stdout",
     "output_type": "stream",
     "text": [
      "torch.Size([4, 100])\n"
     ]
    },
    {
     "data": {
      "text/plain": [
       "tensor([-0.7143, -1.4903, -0.9979, -0.8785, -0.1534,  1.1639, -0.7115, -0.1128,\n",
       "        -0.3823, -0.3320, -0.8448, -0.4104, -0.4048, -1.3025, -0.6886, -0.7926,\n",
       "        -2.1823,  0.7913, -0.9433,  0.2844, -1.0864, -0.3118, -0.3234, -0.1820,\n",
       "        -0.2343,  1.8259,  1.1103, -0.2335,  0.5020,  0.3979,  1.6474, -0.1973,\n",
       "        -0.5245, -0.2456, -1.2723,  1.7845,  1.2533,  0.9201, -0.1508, -0.4383,\n",
       "         1.5420,  1.5182,  0.3813, -0.4135,  1.2217,  0.0029,  1.1078, -0.3327,\n",
       "        -0.3839, -1.2866, -0.2851,  0.8434, -0.3501, -0.8283,  0.3126,  1.3231,\n",
       "         0.2071, -0.6671, -0.1865,  0.3288, -0.0042,  0.3117, -0.0381, -0.9131,\n",
       "        -0.1740, -0.0700,  0.9199,  0.8574, -0.5975, -1.5152,  0.6242,  0.5978,\n",
       "         0.1579, -0.5107,  0.0757,  0.4366, -1.3448,  0.5985, -1.4366, -0.1625,\n",
       "         0.3953, -1.0775, -1.1976, -1.8731,  0.2261, -0.4944, -0.7010, -0.8912,\n",
       "        -0.7846,  1.6331, -1.2273, -0.1037, -0.1854, -0.9621, -0.3121, -0.1740,\n",
       "         1.4625,  0.0278,  1.9579,  0.1383], grad_fn=<SelectBackward0>)"
      ]
     },
     "execution_count": 24,
     "metadata": {},
     "output_type": "execute_result"
    }
   ],
   "source": [
    "from torch.nn import Embedding\n",
    "\n",
    "# Define an embedding layer for words with 10,000 unique words and each word represented by a vector of size 100\n",
    "embedding_layer = Embedding(num_embeddings=10000, embedding_dim=100)\n",
    "\n",
    "# Input: An array of word indices\n",
    "input_data = torch.LongTensor([1, 5, 3, 8])\n",
    "\n",
    "# Apply the embedding layer to convert indices into vectors\n",
    "embedded_vectors = embedding_layer(input_data)\n",
    "\n",
    "# The result is a tensor of shape (4, 100), with each row representing a word as a 100-dimensional vector.\n",
    "print(embedded_vectors.shape)\n",
    "embedded_vectors[0]"
   ]
  },
  {
   "cell_type": "markdown",
   "id": "b61b548e",
   "metadata": {
    "papermill": {
     "duration": 0.01594,
     "end_time": "2023-09-01T19:55:35.490556",
     "exception": false,
     "start_time": "2023-09-01T19:55:35.474616",
     "status": "completed"
    },
    "tags": []
   },
   "source": [
    "Matrix Multiplication"
   ]
  },
  {
   "cell_type": "code",
   "execution_count": 25,
   "id": "a78b263d",
   "metadata": {
    "execution": {
     "iopub.execute_input": "2023-09-01T19:55:35.525356Z",
     "iopub.status.busy": "2023-09-01T19:55:35.524663Z",
     "iopub.status.idle": "2023-09-01T19:55:35.538235Z",
     "shell.execute_reply": "2023-09-01T19:55:35.537266Z"
    },
    "papermill": {
     "duration": 0.034039,
     "end_time": "2023-09-01T19:55:35.541120",
     "exception": false,
     "start_time": "2023-09-01T19:55:35.507081",
     "status": "completed"
    },
    "tags": []
   },
   "outputs": [
    {
     "name": "stdout",
     "output_type": "stream",
     "text": [
      "Matrix Multiplication: \n",
      "tensor([[ 27,  30,  33],\n",
      "        [ 61,  68,  75],\n",
      "        [ 95, 106, 117]])\n",
      "\n",
      "Matrix Multiplication: \n",
      "tensor([[ 27,  30,  33],\n",
      "        [ 61,  68,  75],\n",
      "        [ 95, 106, 117]])\n",
      "\n"
     ]
    }
   ],
   "source": [
    "tensor1 = torch.tensor([[1,2],[3,4],[5,6]])\n",
    "tensor2 = torch.tensor([[7,8,9],[10,11,12]])\n",
    "\n",
    "print(f\"Matrix Multiplication: \\n{tensor1 @ tensor2}\\n\")\n",
    "print(f\"Matrix Multiplication: \\n{torch.matmul(tensor1,tensor2)}\\n\")"
   ]
  },
  {
   "cell_type": "code",
   "execution_count": null,
   "id": "7b2719c8",
   "metadata": {
    "papermill": {
     "duration": 0.016389,
     "end_time": "2023-09-01T19:55:35.573316",
     "exception": false,
     "start_time": "2023-09-01T19:55:35.556927",
     "status": "completed"
    },
    "tags": []
   },
   "outputs": [],
   "source": []
  }
 ],
 "kernelspec": {
  "display_name": "Python 3",
  "language": "python",
  "name": "python3"
 },
 "language_info": {
  "codemirror_mode": {
   "name": "ipython",
   "version": 3
  },
  "file_extension": ".py",
  "mimetype": "text/x-python",
  "name": "python",
  "nbconvert_exporter": "python",
  "pygments_lexer": "ipython3",
  "version": "3.6.4"
 },
 "metadata": {
  "kernelspec": {
   "display_name": "Python 3",
   "language": "python",
   "name": "python3"
  },
  "language_info": {
   "codemirror_mode": {
    "name": "ipython",
    "version": 3
   },
   "file_extension": ".py",
   "mimetype": "text/x-python",
   "name": "python",
   "nbconvert_exporter": "python",
   "pygments_lexer": "ipython3",
   "version": "3.10.12"
  },
  "papermill": {
   "default_parameters": {},
   "duration": 11.969429,
   "end_time": "2023-09-01T19:55:36.512535",
   "environment_variables": {},
   "exception": null,
   "input_path": "__notebook__.ipynb",
   "output_path": "__notebook__.ipynb",
   "parameters": {},
   "start_time": "2023-09-01T19:55:24.543106",
   "version": "2.4.0"
  }
 },
 "nbformat": 4,
 "nbformat_minor": 5
}
